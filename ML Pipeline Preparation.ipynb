{
 "cells": [
  {
   "cell_type": "markdown",
   "metadata": {},
   "source": [
    "# ML Pipeline Preparation\n",
    "Follow the instructions below to help you create your ML pipeline.\n",
    "### 1. Import libraries and load data from database.\n",
    "- Import Python libraries\n",
    "- Load dataset from database with [`read_sql_table`](https://pandas.pydata.org/pandas-docs/stable/generated/pandas.read_sql_table.html)\n",
    "- Define feature and target variables X and Y"
   ]
  },
  {
   "cell_type": "code",
   "execution_count": 1,
   "metadata": {},
   "outputs": [
    {
     "name": "stdout",
     "output_type": "stream",
     "text": [
      "[nltk_data] Downloading package punkt to /root/nltk_data...\n",
      "[nltk_data]   Unzipping tokenizers/punkt.zip.\n",
      "[nltk_data] Downloading package wordnet to /root/nltk_data...\n",
      "[nltk_data]   Unzipping corpora/wordnet.zip.\n",
      "[nltk_data] Downloading package averaged_perceptron_tagger to\n",
      "[nltk_data]     /root/nltk_data...\n",
      "[nltk_data]   Unzipping taggers/averaged_perceptron_tagger.zip.\n"
     ]
    }
   ],
   "source": [
    "# import libraries\n",
    "import sys\n",
    "import nltk\n",
    "nltk.download(['punkt', 'wordnet', 'averaged_perceptron_tagger'])\n",
    "import re\n",
    "import os\n",
    "import numpy as np\n",
    "import pandas as pd\n",
    "from nltk.tokenize import word_tokenize\n",
    "from nltk.stem import WordNetLemmatizer\n",
    "from sqlalchemy import create_engine\n",
    "\n",
    "import pickle\n",
    "from sklearn.base import BaseEstimator,TransformerMixin\n",
    "from sklearn.model_selection import GridSearchCV\n",
    "from sklearn.ensemble import RandomForestClassifier\n",
    "from sklearn.model_selection import train_test_split\n",
    "from sklearn.feature_extraction.text import CountVectorizer, TfidfTransformer\n",
    "from sklearn.datasets import make_multilabel_classification\n",
    "from sklearn.pipeline import Pipeline, FeatureUnion\n",
    "from sklearn.multioutput import MultiOutputClassifier\n",
    "from sklearn.metrics import classification_report"
   ]
  },
  {
   "cell_type": "code",
   "execution_count": 5,
   "metadata": {},
   "outputs": [],
   "source": [
    "# load data from database\n",
    "engine = create_engine('sqlite:///InsertDatabaseName.db')\n",
    "df = pd.read_sql_table('InsertTableName',engine)\n",
    "\n",
    "\n",
    "X = df['message']\n",
    "Y = df.iloc[:,4:]\n",
    "columns = Y.columns"
   ]
  },
  {
   "cell_type": "markdown",
   "metadata": {},
   "source": [
    "### 2. Write a tokenization function to process your text data"
   ]
  },
  {
   "cell_type": "code",
   "execution_count": 8,
   "metadata": {},
   "outputs": [],
   "source": [
    "def tokenize(text):\n",
    "    '''\n",
    "    text : the text you want to tokenize\n",
    "    '''\n",
    "    url_regex = 'http[s]?://(?:[a-zA-Z]|[0-9]|[$-_@.&+]|[!*\\(\\),]|(?:%[0-9a-fA-F][0-9a-fA-F]))+'\n",
    "    \n",
    "    # Replace url in case we find some     \n",
    "    detected_urls = re.findall(url_regex, text)\n",
    "    \n",
    "    # Tokenize the text     \n",
    "    tokens = word_tokenize(text)\n",
    "    \n",
    "    #lemmatize and normalize the data     \n",
    "    lemmatizer = WordNetLemmatizer()\n",
    "    clean_tokens = []\n",
    "    for tok in tokens:\n",
    "        clean_tok = lemmatizer.lemmatize(tok).lower().strip()\n",
    "        clean_tokens.append(clean_tok)\n",
    "        \n",
    "    return clean_tokens"
   ]
  },
  {
   "cell_type": "markdown",
   "metadata": {},
   "source": [
    "### 3. Build a machine learning pipeline\n",
    "This machine pipeline should take in the `message` column as input and output classification results on the other 36 categories in the dataset. You may find the [MultiOutputClassifier](http://scikit-learn.org/stable/modules/generated/sklearn.multioutput.MultiOutputClassifier.html) helpful for predicting multiple target variables."
   ]
  },
  {
   "cell_type": "code",
   "execution_count": 13,
   "metadata": {},
   "outputs": [],
   "source": [
    "class StartingVerbExtractor(BaseEstimator, TransformerMixin):\n",
    "    \"\"\"\n",
    "    Starting Verb Extractor class\n",
    "    \n",
    "    This class extract the starting verb of a sentence,\n",
    "    creating a new feature for the ML classifier\n",
    "    \"\"\"\n",
    "\n",
    "    def starting_verb(self, text):\n",
    "        sentence_list = nltk.sent_tokenize(text)\n",
    "        for sentence in sentence_list:\n",
    "            pos_tags = nltk.pos_tag(tokenize(sentence))\n",
    "            first_word, first_tag = pos_tags[0]\n",
    "            if first_tag in ['VB', 'VBP'] or first_word == 'RT':\n",
    "                return True\n",
    "        return False\n",
    "\n",
    "    # Given it is a tranformer we can return the self \n",
    "    def fit(self, X, y=None):\n",
    "        return self\n",
    "\n",
    "    def transform(self, X):\n",
    "        X_tagged = pd.Series(X).apply(self.starting_verb)\n",
    "        return pd.DataFrame(X_tagged)"
   ]
  },
  {
   "cell_type": "code",
   "execution_count": 14,
   "metadata": {},
   "outputs": [],
   "source": [
    "classifier = RandomForestClassifier(min_samples_split = 100,min_samples_leaf = 20, max_depth = 8,\n",
    "                                       max_features = 'sqrt', random_state = 1)\n",
    "pipeline = Pipeline([\n",
    "\n",
    "                ('count_vectorizer', CountVectorizer(tokenizer=tokenize)),\n",
    "                ('tfidf_transformer', TfidfTransformer()),\n",
    "                ('classifier', MultiOutputClassifier(classifier))\n",
    "    ])\n",
    "\n",
    "\n",
    "cv = GridSearchCV(pipeline, param_grid=params, cv=5, n_jobs=-1)\n"
   ]
  },
  {
   "cell_type": "markdown",
   "metadata": {},
   "source": [
    "### 4. Train pipeline\n",
    "- Split data into train and test sets\n",
    "- Train pipeline"
   ]
  },
  {
   "cell_type": "code",
   "execution_count": 15,
   "metadata": {},
   "outputs": [
    {
     "data": {
      "text/plain": [
       "GridSearchCV(cv=5, error_score='raise',\n",
       "       estimator=Pipeline(memory=None,\n",
       "     steps=[('count_vectorizer', CountVectorizer(analyzer='word', binary=False, decode_error='strict',\n",
       "        dtype=<class 'numpy.int64'>, encoding='utf-8', input='content',\n",
       "        lowercase=True, max_df=1.0, max_features=None, min_df=1,\n",
       "        ngram_range=(1, 1), preprocessor=None, stop_words=None,\n",
       " ...1,\n",
       "            oob_score=False, random_state=1, verbose=0, warm_start=False),\n",
       "           n_jobs=1))]),\n",
       "       fit_params=None, iid=True, n_jobs=-1,\n",
       "       param_grid={'classifier__estimator__n_estimators': [100, 200]},\n",
       "       pre_dispatch='2*n_jobs', refit=True, return_train_score='warn',\n",
       "       scoring=None, verbose=0)"
      ]
     },
     "execution_count": 15,
     "metadata": {},
     "output_type": "execute_result"
    }
   ],
   "source": [
    "X_train, X_test, y_train, y_test = train_test_split(X, Y)\n",
    "cv.fit(X_train, y_train)"
   ]
  },
  {
   "cell_type": "markdown",
   "metadata": {},
   "source": [
    "### 5. Test your model\n",
    "Report the f1 score, precision and recall for each output category of the dataset. You can do this by iterating through the columns and calling sklearn's `classification_report` on each."
   ]
  },
  {
   "cell_type": "code",
   "execution_count": 17,
   "metadata": {},
   "outputs": [
    {
     "name": "stdout",
     "output_type": "stream",
     "text": [
      "                        precision    recall  f1-score   support\n",
      "\n",
      "               related       0.77      1.00      0.87      5008\n",
      "               request       0.00      0.00      0.00      1116\n",
      "                 offer       0.00      0.00      0.00        23\n",
      "           aid_related       0.95      0.03      0.06      2720\n",
      "          medical_help       0.00      0.00      0.00       513\n",
      "      medical_products       0.00      0.00      0.00       317\n",
      "     search_and_rescue       0.00      0.00      0.00       181\n",
      "              security       0.00      0.00      0.00       119\n",
      "              military       0.00      0.00      0.00       195\n",
      "                 water       0.00      0.00      0.00       402\n",
      "                  food       0.00      0.00      0.00       751\n",
      "               shelter       0.00      0.00      0.00       621\n",
      "              clothing       0.00      0.00      0.00       104\n",
      "                 money       0.00      0.00      0.00       140\n",
      "        missing_people       0.00      0.00      0.00        69\n",
      "              refugees       0.00      0.00      0.00       236\n",
      "                 death       0.00      0.00      0.00       316\n",
      "             other_aid       0.00      0.00      0.00       890\n",
      "infrastructure_related       0.00      0.00      0.00       430\n",
      "             transport       0.00      0.00      0.00       315\n",
      "             buildings       0.00      0.00      0.00       372\n",
      "           electricity       0.00      0.00      0.00       138\n",
      "                 tools       0.00      0.00      0.00        32\n",
      "             hospitals       0.00      0.00      0.00        77\n",
      "                 shops       0.00      0.00      0.00        35\n",
      "           aid_centers       0.00      0.00      0.00        62\n",
      "  other_infrastructure       0.00      0.00      0.00       302\n",
      "       weather_related       1.00      0.00      0.01      1818\n",
      "                floods       0.00      0.00      0.00       526\n",
      "                 storm       0.00      0.00      0.00       582\n",
      "                  fire       0.00      0.00      0.00        77\n",
      "            earthquake       0.00      0.00      0.00       599\n",
      "                  cold       0.00      0.00      0.00       143\n",
      "         other_weather       0.00      0.00      0.00       356\n",
      "         direct_report       0.00      0.00      0.00      1264\n",
      "\n",
      "           avg / total       0.40      0.24      0.22     20849\n",
      "\n"
     ]
    },
    {
     "name": "stderr",
     "output_type": "stream",
     "text": [
      "/opt/conda/lib/python3.6/site-packages/sklearn/metrics/classification.py:1135: UndefinedMetricWarning: Precision and F-score are ill-defined and being set to 0.0 in labels with no predicted samples.\n",
      "  'precision', 'predicted', average, warn_for)\n"
     ]
    }
   ],
   "source": [
    "y_pred = cv.predict(X_test)\n",
    "print(classification_report(y_test.values, y_pred, target_names = columns))"
   ]
  },
  {
   "cell_type": "markdown",
   "metadata": {},
   "source": [
    "### 6. Improve your model\n",
    "Use grid search to find better parameters. "
   ]
  },
  {
   "cell_type": "code",
   "execution_count": 18,
   "metadata": {},
   "outputs": [],
   "source": [
    "classifier = RandomForestClassifier(min_samples_split = 100,min_samples_leaf = 20, max_depth = 8,\n",
    "                                       max_features = 'sqrt', random_state = 1)\n",
    "pipeline2 = Pipeline([\n",
    "        ('features', FeatureUnion([\n",
    "\n",
    "            ('text_pipeline', Pipeline([\n",
    "                ('count_vectorizer', CountVectorizer(tokenizer=tokenize)),\n",
    "                ('tfidf_transformer', TfidfTransformer())\n",
    "            ])),\n",
    "\n",
    "            ('starting_verb_transformer', StartingVerbExtractor())\n",
    "        ])),\n",
    "\n",
    "        ('classifier', MultiOutputClassifier(classifier))\n",
    "    ])\n",
    "    \n",
    "params2 = {\n",
    "    \n",
    "            'classifier__estimator__n_estimators': [100, 200]\n",
    "#     These parameters were commented because they take too long to run\n",
    "#         ,\n",
    "        #             'classifier__estimator__random_state' : [1,5,10],\n",
    "#             'classifier__estimator__min_samples_split':[100,200,300]\n",
    "        \n",
    "                                                        }\n",
    "cv2 = GridSearchCV(pipeline2, param_grid = params2, cv=5, n_jobs=-1)"
   ]
  },
  {
   "cell_type": "markdown",
   "metadata": {},
   "source": [
    "### 7. Test your model\n",
    "Show the accuracy, precision, and recall of the tuned model.  \n",
    "\n",
    "Since this project focuses on code quality, process, and  pipelines, there is no minimum performance metric needed to pass. However, make sure to fine tune your models for accuracy, precision and recall to make your project stand out - especially for your portfolio!"
   ]
  },
  {
   "cell_type": "code",
   "execution_count": 19,
   "metadata": {},
   "outputs": [
    {
     "name": "stdout",
     "output_type": "stream",
     "text": [
      "                        precision    recall  f1-score   support\n",
      "\n",
      "               related       0.77      1.00      0.87      5008\n",
      "               request       0.00      0.00      0.00      1116\n",
      "                 offer       0.00      0.00      0.00        23\n",
      "           aid_related       0.95      0.03      0.06      2720\n",
      "          medical_help       0.00      0.00      0.00       513\n",
      "      medical_products       0.00      0.00      0.00       317\n",
      "     search_and_rescue       0.00      0.00      0.00       181\n",
      "              security       0.00      0.00      0.00       119\n",
      "              military       0.00      0.00      0.00       195\n",
      "                 water       0.00      0.00      0.00       402\n",
      "                  food       0.00      0.00      0.00       751\n",
      "               shelter       0.00      0.00      0.00       621\n",
      "              clothing       0.00      0.00      0.00       104\n",
      "                 money       0.00      0.00      0.00       140\n",
      "        missing_people       0.00      0.00      0.00        69\n",
      "              refugees       0.00      0.00      0.00       236\n",
      "                 death       0.00      0.00      0.00       316\n",
      "             other_aid       0.00      0.00      0.00       890\n",
      "infrastructure_related       0.00      0.00      0.00       430\n",
      "             transport       0.00      0.00      0.00       315\n",
      "             buildings       0.00      0.00      0.00       372\n",
      "           electricity       0.00      0.00      0.00       138\n",
      "                 tools       0.00      0.00      0.00        32\n",
      "             hospitals       0.00      0.00      0.00        77\n",
      "                 shops       0.00      0.00      0.00        35\n",
      "           aid_centers       0.00      0.00      0.00        62\n",
      "  other_infrastructure       0.00      0.00      0.00       302\n",
      "       weather_related       1.00      0.01      0.01      1818\n",
      "                floods       0.00      0.00      0.00       526\n",
      "                 storm       0.00      0.00      0.00       582\n",
      "                  fire       0.00      0.00      0.00        77\n",
      "            earthquake       0.00      0.00      0.00       599\n",
      "                  cold       0.00      0.00      0.00       143\n",
      "         other_weather       0.00      0.00      0.00       356\n",
      "         direct_report       0.00      0.00      0.00      1264\n",
      "\n",
      "           avg / total       0.40      0.24      0.22     20849\n",
      "\n"
     ]
    },
    {
     "name": "stderr",
     "output_type": "stream",
     "text": [
      "/opt/conda/lib/python3.6/site-packages/sklearn/metrics/classification.py:1135: UndefinedMetricWarning: Precision and F-score are ill-defined and being set to 0.0 in labels with no predicted samples.\n",
      "  'precision', 'predicted', average, warn_for)\n"
     ]
    }
   ],
   "source": [
    "cv2.fit(X_train, y_train)\n",
    "y_pred2 = cv2.predict(X_test)\n",
    "print(classification_report(y_test.values, y_pred2, target_names = columns))"
   ]
  },
  {
   "cell_type": "markdown",
   "metadata": {},
   "source": [
    "### 8. Try improving your model further. Here are a few ideas:\n",
    "* try other machine learning algorithms\n",
    "* add other features besides the TF-IDF"
   ]
  },
  {
   "cell_type": "code",
   "execution_count": null,
   "metadata": {},
   "outputs": [],
   "source": []
  },
  {
   "cell_type": "markdown",
   "metadata": {},
   "source": [
    "### 9. Export your model as a pickle file"
   ]
  },
  {
   "cell_type": "code",
   "execution_count": 21,
   "metadata": {},
   "outputs": [],
   "source": [
    "pickle.dump(cv2, open('classifier.pkl', 'wb'))"
   ]
  },
  {
   "cell_type": "markdown",
   "metadata": {},
   "source": [
    "### 10. Use this notebook to complete `train.py`\n",
    "Use the template file attached in the Resources folder to write a script that runs the steps above to create a database and export a model based on a new dataset specified by the user."
   ]
  },
  {
   "cell_type": "code",
   "execution_count": null,
   "metadata": {},
   "outputs": [],
   "source": []
  }
 ],
 "metadata": {
  "kernelspec": {
   "display_name": "Python 3",
   "language": "python",
   "name": "python3"
  },
  "language_info": {
   "codemirror_mode": {
    "name": "ipython",
    "version": 3
   },
   "file_extension": ".py",
   "mimetype": "text/x-python",
   "name": "python",
   "nbconvert_exporter": "python",
   "pygments_lexer": "ipython3",
   "version": "3.6.3"
  }
 },
 "nbformat": 4,
 "nbformat_minor": 2
}
